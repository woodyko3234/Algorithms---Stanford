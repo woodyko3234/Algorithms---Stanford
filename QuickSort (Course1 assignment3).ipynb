{
 "cells": [
  {
   "cell_type": "code",
   "execution_count": 26,
   "metadata": {
    "collapsed": true
   },
   "outputs": [],
   "source": [
    "import numpy as np\n",
    "def quicksort(array):\n",
    "    '''\n",
    "    inputs:\n",
    "        array - list A[s: e]\n",
    "        s - starting indice\n",
    "        e - ending indice\n",
    "    return:\n",
    "        array with sorted [items < pivot, pivot, items > pivot]\n",
    "    '''\n",
    "    #end the recursion\n",
    "    e = len(array)\n",
    "    if e <= 2: return sorted(array)\n",
    "    \n",
    "    s = 0\n",
    "    \n",
    "    #note: always set pivot to be the first element of the array might cause O(n^2) running time\n",
    "    pivot = array[s]\n",
    "    left_end = s+1\n",
    "    \n",
    "    for i in range(s+1, e):\n",
    "        if array[i] < pivot: #if array[i] > pivot: continue\n",
    "            #swap right and left\n",
    "            array[i], array[left_end] = array[left_end], array[i]\n",
    "            #expand left_end\n",
    "            left_end += 1\n",
    "    #swap array[s] and array[left_end - 1]\n",
    "    array[s], array[left_end - 1] = array[left_end - 1], array[s]\n",
    "    #divide and conquer, both left and right sides should not contain the pivot\n",
    "    left_sort = quicksort(array[s:left_end - 1])\n",
    "    right_sort = quicksort(array[left_end:e])\n",
    "    \n",
    "    return left_sort + [pivot] + right_sort"
   ]
  },
  {
   "cell_type": "code",
   "execution_count": 27,
   "metadata": {},
   "outputs": [
    {
     "data": {
      "text/plain": [
       "[1, 2, 3, 4, 5, 6, 7, 8, 9, 10, 11]"
      ]
     },
     "execution_count": 27,
     "metadata": {},
     "output_type": "execute_result"
    }
   ],
   "source": [
    "array = [7,2,4,3,10,5,6,8,11,1,9]\n",
    "quicksort(array)"
   ]
  },
  {
   "cell_type": "markdown",
   "metadata": {},
   "source": [
    "GENERAL DIRECTIONS:\n",
    "\n",
    "Download the following text file:\n",
    "\n",
    "QuickSort.txt\n",
    "\n",
    "The file contains all of the integers between 1 and 10,000 (inclusive, with no repeats) in unsorted order. The integer in the $$i^{th}$$ row of the file gives you the $$i^{th}$$ entry of an input array.\n",
    "\n",
    "Your task is to compute the total number of comparisons used to sort the given input file by QuickSort. As you know, the number of comparisons depends on which elements are chosen as pivots, so we'll ask you to explore three different pivoting rules.\n",
    "\n",
    "You should not count comparisons one-by-one. Rather, when there is a recursive call on a subarray of length $$m$$, you should simply add $$m-1$$ to your running total of comparisons. (This is because the pivot element is compared to each of the other $$m-1$$ elements in the subarray in this recursive call.)\n",
    "\n",
    "WARNING: The Partition subroutine can be implemented in several different ways, and different implementations can give you differing numbers of comparisons. For this problem, you should implement the Partition subroutine exactly as it is described in the video lectures (otherwise you might get the wrong answer).\n",
    "\n",
    "DIRECTIONS FOR THIS PROBLEM:\n",
    "\n",
    "For the first part of the programming assignment, you should always use the first element of the array as the pivot element.\n",
    "\n",
    "HOW TO GIVE US YOUR ANSWER:\n",
    "\n",
    "Type the numeric answer in the space provided.\n",
    "\n",
    "So if your answer is 1198233847, then just type 1198233847 in the space provided without any space / commas / other punctuation marks. You have 5 attempts to get the correct answer.\n",
    "\n",
    "(We do not require you to submit your code, so feel free to use the programming language of your choice, just type the numeric answer in the following space.)"
   ]
  },
  {
   "cell_type": "code",
   "execution_count": 58,
   "metadata": {
    "collapsed": true
   },
   "outputs": [],
   "source": [
    "import numpy as np\n",
    "def quicksort_start(array, n):\n",
    "    '''\n",
    "    inputs:\n",
    "        array - list A[s: e]\n",
    "        s - starting indice\n",
    "        e - ending indice\n",
    "        n - len(array)\n",
    "    return:\n",
    "        array with sorted [items < pivot, pivot, items > pivot]\n",
    "    '''\n",
    "    #end the recursion\n",
    "    e = len(array)\n",
    "    if e == 2: return sorted(array), 1\n",
    "    elif e <= 1: return array, 0\n",
    "    \n",
    "    s = 0\n",
    "    #counting setting\n",
    "    counting = e-1\n",
    "    #note: always set pivot to be the first element of the array might cause O(n^2) running time\n",
    "    pivot = array[s]\n",
    "    left_end = s+1\n",
    "    \n",
    "    for i in range(s+1, e):\n",
    "        if array[i] < pivot: #if array[i] > pivot: continue\n",
    "            #swap right and left\n",
    "            array[i], array[left_end] = array[left_end], array[i]\n",
    "            #expand left_end\n",
    "            left_end += 1\n",
    "    #swap array[s] and array[left_end - 1]\n",
    "    array[s], array[left_end - 1] = array[left_end - 1], array[s]\n",
    "    #divide and conquer, both left and right sides should not contain the pivot\n",
    "    left_sort, left_counting = quicksort_start(array[s:left_end - 1], left_end - 1 - s)\n",
    "    right_sort, right_counting = quicksort_start(array[left_end:e], e - left_end)\n",
    "    \n",
    "    return left_sort + [pivot] + right_sort, counting + left_counting + right_counting"
   ]
  },
  {
   "cell_type": "code",
   "execution_count": 59,
   "metadata": {},
   "outputs": [
    {
     "name": "stdout",
     "output_type": "stream",
     "text": [
      "Q1 Comparing times:  162085\n"
     ]
    }
   ],
   "source": [
    "with open('QuickSort.txt', 'r') as f:\n",
    "    array = [int(x) for x in f]\n",
    "n = len(array)\n",
    "print('Q1 Comparing times: ', quicksort_start(array, n)[1])"
   ]
  },
  {
   "cell_type": "markdown",
   "metadata": {},
   "source": [
    "GENERAL DIRECTIONS AND HOW TO GIVE US YOUR ANSWER:\n",
    "\n",
    "See the first question.\n",
    "\n",
    "DIRECTIONS FOR THIS PROBLEM:\n",
    "\n",
    "Compute the number of comparisons (as in Problem 1), always using the final element of the given array as the pivot element. Again, be sure to implement the Partition subroutine exactly as it is described in the video lectures.\n",
    "\n",
    "Recall from the lectures that, just before the main Partition subroutine, you should exchange the pivot element (i.e., the last element) with the first element."
   ]
  },
  {
   "cell_type": "code",
   "execution_count": 81,
   "metadata": {
    "collapsed": true
   },
   "outputs": [],
   "source": [
    "#provide options for pivot_setting\n",
    "def quicksort(array, n, pivot_setting = 'start'):\n",
    "    '''\n",
    "    inputs:\n",
    "        array - list A[s: e]\n",
    "        s - starting indice\n",
    "        e - ending indice\n",
    "        n - len(array)\n",
    "    return:\n",
    "        array with sorted [items < pivot, pivot, items > pivot]\n",
    "    '''\n",
    "    #end the recursion\n",
    "    e = len(array)\n",
    "    if e == 2: return sorted(array), 1\n",
    "    elif e <= 1: return array, 0\n",
    "    \n",
    "    s = 0\n",
    "\n",
    "    #note: always set pivot to be the first element of the array might cause O(n^2) running time\n",
    "    if pivot_setting == 'start':\n",
    "        #counting setting\n",
    "        counting = e-1\n",
    "        \n",
    "        pivot = array[s]\n",
    "        end = s+1\n",
    "        #looping, take O(n)\n",
    "        for i in range(s+1, e):\n",
    "            if array[i] < pivot: #if array[i] > pivot: continue\n",
    "                #swap right and left\n",
    "                array[i], array[end] = array[end], array[i]\n",
    "                #expand left_end\n",
    "                end += 1\n",
    "        #swap array[s] and array[left_end - 1]\n",
    "        array[s], array[end - 1] = array[end - 1], array[s]\n",
    "        #divide and conquer, both left and right sides should not contain the pivot\n",
    "        left_sort, left_counting = quicksort_start(array[s:end - 1], end - 1 - s)\n",
    "        right_sort, right_counting = quicksort_start(array[end:e], e - end)\n",
    "        \n",
    "        \n",
    "    elif pivot_setting == 'end':\n",
    "        #counting setting\n",
    "        counting = e-1\n",
    "        \n",
    "        pivot = array[e-1]\n",
    "        end = e - 2\n",
    "        for i in reversed(range(s, e-1)):\n",
    "            if array[i] > pivot: #if array[i] < pivot: continue\n",
    "                #swap right and left\n",
    "                array[i], array[end] = array[end], array[i]\n",
    "                #expand right_end\n",
    "                end -= 1\n",
    "        #swap array[e-1] and array[right_end - 1]\n",
    "        array[e-1], array[end + 1] = array[end + 1], array[e-1]\n",
    "        end += 1\n",
    "        #divide and conquer, both left and right sides should not contain the pivot\n",
    "        left_sort, left_counting = quicksort(array[s:end], end - s, pivot_setting = 'end')\n",
    "        right_sort, right_counting = quicksort(array[end+1:e], e - end - 1, pivot_setting = 'end')\n",
    "        \n",
    "    elif pivot_setting == 'median':\n",
    "        #counting setting\n",
    "        counting = e\n",
    "        \n",
    "        if e//2 == 0:\n",
    "            pivot = sorted([array[0], array[e//2 - 1], array[-1]])[1]\n",
    "        else:\n",
    "            pivot = sorted([array[0], array[e//2], array[-1]])[1]\n",
    "        \n",
    "        end = 0\n",
    "        for i in range(s, e):\n",
    "            if array[i] < pivot: #if array[i] > pivot: continue\n",
    "                #swap right and left\n",
    "                array[i], array[end] = array[end], array[i]\n",
    "                #expand left_end\n",
    "                end += 1\n",
    "        #if additionally find the median, there's no need to swap pivot and the array[end indice]\n",
    "        #divide and conquer, both left and right sides should not contain the pivot\n",
    "        left_sort, left_counting = quicksort(array[s:end], end - s, pivot_setting = 'median')\n",
    "        right_sort, right_counting = quicksort(array[end:e], e - end, pivot_setting = 'median')\n",
    "        \n",
    "    \n",
    "    return left_sort +  right_sort, counting + left_counting + right_counting"
   ]
  },
  {
   "cell_type": "code",
   "execution_count": 77,
   "metadata": {},
   "outputs": [
    {
     "data": {
      "text/plain": [
       "([1, 2, 3, 4, 5, 6, 7, 8, 9, 10, 11], 33)"
      ]
     },
     "execution_count": 77,
     "metadata": {},
     "output_type": "execute_result"
    }
   ],
   "source": [
    "array = [7,2,4,3,10,5,6,8,11,1,9]\n",
    "quicksort(array, len(array), pivot_setting = 'end')"
   ]
  },
  {
   "cell_type": "code",
   "execution_count": 78,
   "metadata": {},
   "outputs": [
    {
     "name": "stdout",
     "output_type": "stream",
     "text": [
      "Q2 Comparing times:  170025\n"
     ]
    }
   ],
   "source": [
    "with open('QuickSort.txt', 'r') as f:\n",
    "    array = [int(x) for x in f]\n",
    "n = len(array)\n",
    "print('Q2 Comparing times: ', quicksort(array, n, pivot_setting = 'end')[1])"
   ]
  },
  {
   "cell_type": "markdown",
   "metadata": {},
   "source": [
    "GENERAL DIRECTIONS AND HOW TO GIVE US YOUR ANSWER:\n",
    "\n",
    "See the first question.\n",
    "\n",
    "DIRECTIONS FOR THIS PROBLEM:\n",
    "\n",
    "Compute the number of comparisons (as in Problem 1), using the \"median-of-three\" pivot rule. [The primary motivation behind this rule is to do a little bit of extra work to get much better performance on input arrays that are nearly sorted or reverse sorted.] In more detail, you should choose the pivot as follows. Consider the first, middle, and final elements of the given array. (If the array has odd length it should be clear what the \"middle\" element is; for an array with even length 2k, use the kth\n",
    "element as the \"middle\" element. So for the array 4 5 6 7, the \"middle\" element is the second one ---- 5 and not 6!) Identify which of these three elements is the median (i.e., the one whose value is in between the other two), and use this as your pivot. As discussed in the first and second parts of this programming assignment, be sure to implement Partition exactly as described in the video lectures (including exchanging the pivot element with the first element just before the main Partition subroutine).\n",
    "\n",
    "EXAMPLE: For the input array 8 2 4 5 7 1 you would consider the first (8), middle (4), and last (1) elements; since 4 is the median of the set {1,4,8}, you would use 4 as your pivot element.\n",
    "\n",
    "SUBTLE POINT: A careful analysis would keep track of the comparisons made in identifying the median of the three candidate elements. You should NOT do this. That is, as in the previous two problems, you should simply add m−1\n",
    "to your running total of comparisons every time you recurse on a subarray with length m"
   ]
  },
  {
   "cell_type": "code",
   "execution_count": 82,
   "metadata": {},
   "outputs": [
    {
     "data": {
      "text/plain": [
       "([1, 2, 3, 4, 5, 6, 7, 8, 9, 10, 11], 37)"
      ]
     },
     "execution_count": 82,
     "metadata": {},
     "output_type": "execute_result"
    }
   ],
   "source": [
    "array = [7,2,4,3,10,5,6,8,11,1,9]\n",
    "quicksort(array, len(array), pivot_setting = 'median')"
   ]
  },
  {
   "cell_type": "code",
   "execution_count": 83,
   "metadata": {},
   "outputs": [
    {
     "name": "stdout",
     "output_type": "stream",
     "text": [
      "Q3 Comparing times:  149941\n"
     ]
    }
   ],
   "source": [
    "with open('QuickSort.txt', 'r') as f:\n",
    "    array = [int(x) for x in f]\n",
    "n = len(array)\n",
    "print('Q3 Comparing times: ', quicksort(array, n, pivot_setting = 'median')[1])"
   ]
  },
  {
   "cell_type": "code",
   "execution_count": null,
   "metadata": {
    "collapsed": true
   },
   "outputs": [],
   "source": []
  }
 ],
 "metadata": {
  "kernelspec": {
   "display_name": "Python [default]",
   "language": "python",
   "name": "python3"
  },
  "language_info": {
   "codemirror_mode": {
    "name": "ipython",
    "version": 3
   },
   "file_extension": ".py",
   "mimetype": "text/x-python",
   "name": "python",
   "nbconvert_exporter": "python",
   "pygments_lexer": "ipython3",
   "version": "3.5.4"
  }
 },
 "nbformat": 4,
 "nbformat_minor": 2
}
