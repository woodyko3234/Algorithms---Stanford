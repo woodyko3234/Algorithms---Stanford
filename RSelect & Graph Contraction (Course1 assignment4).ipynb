{
 "cells": [
  {
   "cell_type": "markdown",
   "metadata": {},
   "source": [
    "Download the following text file:\n",
    "\n",
    "    kargerMinCut.txt\n",
    "\n",
    "The file contains the adjacency list representation of a simple undirected graph. There are 200 vertices labeled 1 to 200. The first column in the file represents the vertex label, and the particular row (other entries except the first column) tells all the vertices that the vertex is adjacent to. So for example, the 6th row looks like : \"6\t155\t56\t52\t120\t......\". This just means that the vertex with label 6 is adjacent to (i.e., shares an edge with) the vertices with labels 155,56,52,120,......,etc\n",
    "\n",
    "Your task is to code up and run the randomized contraction algorithm for the min cut problem and use it on the above graph to compute the min cut. (HINT: Note that you'll have to figure out an implementation of edge contractions. Initially, you might want to do this naively, creating a new graph from the old every time there's an edge contraction. But you should also think about more efficient implementations.) (WARNING: As per the video lectures, please make sure to run the algorithm many times with different random seeds, and remember the smallest cut that you ever find.) Write your numeric answer in the space provided. So e.g., if your answer is 5, just type 5 in the space provided."
   ]
  },
  {
   "cell_type": "code",
   "execution_count": 2,
   "metadata": {},
   "outputs": [
    {
     "name": "stdout",
     "output_type": "stream",
     "text": [
      "[[1, 37, 79, 164, 155, 32, 87, 39, 113, 15, 18, 78, 175, 140, 200, 4, 160, 97, 191, 100, 91, 20, 69, 198, 196], [2, 123, 134, 10, 141, 13, 12, 43, 47, 3, 177, 101, 179, 77, 182, 117, 116, 36, 103, 51, 154, 162, 128, 30], [3, 48, 123, 134, 109, 41, 17, 159, 49, 136, 16, 130, 141, 29, 176, 2, 190, 66, 153, 157, 70, 114, 65, 173, 104, 194, 54], [4, 91, 171, 118, 125, 158, 76, 107, 18, 73, 140, 42, 193, 127, 100, 84, 121, 60, 81, 99, 80, 150, 55, 1, 35, 23, 93], [5, 193, 156, 102, 118, 175, 39, 124, 119, 19, 99, 160, 75, 20, 112, 37, 23, 145, 135, 146, 73, 35]]\n"
     ]
    }
   ],
   "source": [
    "import random\n",
    "import copy\n",
    "\n",
    "#load the dataset\n",
    "with open('kargerMinCut.txt') as f:\n",
    "    data_set = [[int(x) for x in ln.split()] for ln in f]\n",
    "    #data_set = []\n",
    "    #for ln in f:\n",
    "    #    line = ln.split()\n",
    "    #    if line:\n",
    "    #        a = [int(x) for x in line]\n",
    "    #        data_set.append(a)\n",
    "\n",
    "print(data_set[:5])"
   ]
  },
  {
   "cell_type": "code",
   "execution_count": 15,
   "metadata": {
    "collapsed": true
   },
   "outputs": [],
   "source": [
    "def choose_random_edge(data, seed):\n",
    "    random.seed(seed)\n",
    "    u = random.randint(0,len(data)-1)\n",
    "    v = random.randint(1,len(data[u])-1)\n",
    "    return u,v\n",
    "\n",
    "def compute_nodes(data):\n",
    "    data_head = []\n",
    "    for i in range(len(data)):\n",
    "        #data[i][0] includes all nums from 1 to 200\n",
    "        data_head.append(data[i][0])\n",
    "    return data_head\n",
    "\n",
    "def find_index(data_head,data,u,v):\n",
    "    #find the index of data[u][v] in our nodes data and return the position\n",
    "    index = data_head.index(data[u][v])\n",
    "    return index\n",
    "\n",
    "def replace(data_head,data,index,u):\n",
    "    for i in data[index][1:]:\n",
    "        #get the positions of the adjacent nodes of the target node\n",
    "        index_index = data_head.index(i)\n",
    "        for position,value in enumerate(data[index_index]):\n",
    "            #data[index_index][position] == data[index][0] means the connection is found\n",
    "            if value == data[index][0]:\n",
    "                #replace the connected node with target node\n",
    "                data[index_index][position] = data[u][0]\n",
    "                #the match can be found once only\n",
    "                break\n",
    "    return data\n",
    "    \n",
    "def merge(data, seed):\n",
    "    u,v = choose_random_edge(data, seed)\n",
    "    data_head = compute_nodes(data)\n",
    "    #pick a target node to contract\n",
    "    index = find_index(data_head,data,u,v)\n",
    "    #merge index(target) and node randomly picked\n",
    "    data[u].extend(data[index][1:])\n",
    "    data = replace(data_head,data,index,u)\n",
    "    data[u][1:] = [x for x in data[u][1:] if x!=data[u][0]]\n",
    "    #done replacing, remove the target node\n",
    "    data.remove(data[index])\n",
    "    #print (data)\n",
    "    return data\n",
    "\n",
    "def KargerMinCut(data, seed):\n",
    "    \n",
    "    data = copy.deepcopy(data)\n",
    "    while len(data) >2:\n",
    "        data = merge(data, seed)\n",
    "        #print data\n",
    "    num = len(data[0][1:])\n",
    "    return num\n",
    "\n",
    "#KargerMinCut(data_set)\n",
    "def calc_number(data,iteration):\n",
    "    test_outcomes = []\n",
    "    seed = 35\n",
    "    for i in range(iteration):\n",
    "        test_outcomes.append(KargerMinCut(data, seed))\n",
    "        seed += 1\n",
    "    return min(test_outcomes)\n",
    "\n"
   ]
  },
  {
   "cell_type": "code",
   "execution_count": 18,
   "metadata": {},
   "outputs": [
    {
     "data": {
      "text/plain": [
       "21"
      ]
     },
     "execution_count": 18,
     "metadata": {},
     "output_type": "execute_result"
    }
   ],
   "source": [
    "KargerMinCut(data_set, seed = 33)"
   ]
  },
  {
   "cell_type": "code",
   "execution_count": 19,
   "metadata": {},
   "outputs": [
    {
     "data": {
      "text/plain": [
       "20"
      ]
     },
     "execution_count": 19,
     "metadata": {},
     "output_type": "execute_result"
    }
   ],
   "source": [
    "calc_number(data_set,50)"
   ]
  },
  {
   "cell_type": "code",
   "execution_count": 21,
   "metadata": {},
   "outputs": [
    {
     "data": {
      "text/plain": [
       "17"
      ]
     },
     "execution_count": 21,
     "metadata": {},
     "output_type": "execute_result"
    }
   ],
   "source": [
    "calc_number(data_set,500)"
   ]
  }
 ],
 "metadata": {
  "kernelspec": {
   "display_name": "Python [default]",
   "language": "python",
   "name": "python3"
  },
  "language_info": {
   "codemirror_mode": {
    "name": "ipython",
    "version": 3
   },
   "file_extension": ".py",
   "mimetype": "text/x-python",
   "name": "python",
   "nbconvert_exporter": "python",
   "pygments_lexer": "ipython3",
   "version": "3.5.4"
  }
 },
 "nbformat": 4,
 "nbformat_minor": 2
}
