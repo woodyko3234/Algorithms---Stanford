{
 "cells": [
  {
   "cell_type": "code",
   "execution_count": 1,
   "metadata": {
    "collapsed": true
   },
   "outputs": [],
   "source": [
    "def merge_sort(x):\n",
    "    l = len(x)\n",
    "    #return sorting\n",
    "    if l <= 2: return sorted(x)\n",
    "    #divide x into a and b, call recursive function to divide them further\n",
    "    a = merge_sort(x[:l//2])\n",
    "    b = merge_sort(x[l//2:])\n",
    "    \n",
    "    #conquer and merge\n",
    "    #merged = []\n",
    "    #while len(a) > 0 and len(b) > 0:\n",
    "    #    if a[0] <= b[0]:\n",
    "    #        merged.append(a.pop(0))\n",
    "    #    else:\n",
    "    #        merged.append(b.pop(0))\n",
    "            \n",
    "    #if a != []:\n",
    "    #    return merged + a\n",
    "    #else:\n",
    "    #    return merged + b\n",
    "    \n",
    "    a_i = 0\n",
    "    b_i = 0\n",
    "    for i in range(l):\n",
    "        if a[a_i] <= b[b_i]:\n",
    "            x[i] = a[a_i]\n",
    "            a_i += 1\n",
    "        else:\n",
    "            x[i] = b[b_i]\n",
    "            b_i += 1\n",
    "        if a_i == len(a):\n",
    "            x[i+1:] = b[b_i:]\n",
    "            return x\n",
    "        if b_i == len(b):\n",
    "            x[i+1:] = a[a_i:]\n",
    "            return x\n",
    "    #at most: 6n*logn + 6n"
   ]
  },
  {
   "cell_type": "code",
   "execution_count": 2,
   "metadata": {},
   "outputs": [
    {
     "data": {
      "text/plain": [
       "[2, 4, 6, 7, 8, 12, 67, 90, 99, 123, 213]"
      ]
     },
     "execution_count": 2,
     "metadata": {},
     "output_type": "execute_result"
    }
   ],
   "source": [
    "x = [6,4,123,7,2,8,213,67,99,90,12]\n",
    "merge_sort(x)"
   ]
  },
  {
   "cell_type": "markdown",
   "metadata": {
    "collapsed": true
   },
   "source": [
    "In this programming assignment you will implement one or more of the integer multiplication algorithms described in lecture.\n",
    "\n",
    "To get the most out of this assignment, your program should restrict itself to multiplying only pairs of single-digit numbers. You can implement the grade-school algorithm if you want, but to get the most out of the assignment you'll want to implement recursive integer multiplication and/or Karatsuba's algorithm.\n",
    "\n",
    "So: what's the product of the following two 64-digit numbers?\n",
    "\n",
    "3141592653589793238462643383279502884197169399375105820974944592\n",
    "\n",
    "2718281828459045235360287471352662497757247093699959574966967627\n",
    "\n",
    "[TIP: before submitting, first test the correctness of your program on some small test cases of your own devising. Then post your best test cases to the discussion forums to help your fellow students!]\n",
    "\n",
    "[Food for thought: the number of digits in each input number is a power of 2. Does this make your life easier? Does it depend on which algorithm you're implementing?]\n",
    "\n",
    "The numeric answer should be typed in the space below. So if your answer is 1198233847, then just type 1198233847 in the space provided without any space / commas / any other punctuation marks.\n",
    "\n",
    "(We do not require you to submit your code, so feel free to use any programming language you want --- just type the final numeric answer in the following space.)\n",
    "\n"
   ]
  },
  {
   "cell_type": "code",
   "execution_count": 1,
   "metadata": {},
   "outputs": [
    {
     "data": {
      "text/plain": [
       "8539734222673567065463550869546574495034888535765114961879601127067743044893204848617875072216249073013374895871952806582723184"
      ]
     },
     "execution_count": 1,
     "metadata": {},
     "output_type": "execute_result"
    }
   ],
   "source": [
    "3141592653589793238462643383279502884197169399375105820974944592 * 2718281828459045235360287471352662497757247093699959574966967627"
   ]
  },
  {
   "cell_type": "code",
   "execution_count": 12,
   "metadata": {
    "collapsed": true
   },
   "outputs": [],
   "source": [
    "def karatsuba_product(x, y):\n",
    "    #if x or y is smaller than 10, just return the product\n",
    "    if x <= 10 or y <= 10: return x * y\n",
    "    \n",
    "    #first convert x and y into str\n",
    "    str_x = str(x)\n",
    "    str_y = str(y)\n",
    "    #get their digits\n",
    "    digit_x = len(str_x)\n",
    "    digit_y = len(str_y)\n",
    "    \n",
    "    \n",
    "    #divide into 2 digits\n",
    "    divide_x = digit_x//2\n",
    "    divide_y = digit_y//2\n",
    "    a = int(str_x[:divide_x])\n",
    "    b = int(str_x[divide_x:])\n",
    "    c = int(str_y[:divide_y])\n",
    "    d = int(str_y[divide_y:])\n",
    "    \n",
    "    #call recursive func to conquer and then merge\n",
    "    merge = ((10**(digit_x - divide_x+ digit_y - divide_y) * karatsuba_product(a, c)) + \n",
    "            (10**((digit_x - divide_x+ digit_y - divide_y)/2) * (karatsuba_product(a,d) + karatsuba_product(b,c))) + \n",
    "            karatsuba_product(b,d))\n",
    "    \n",
    "    return merge"
   ]
  },
  {
   "cell_type": "code",
   "execution_count": 15,
   "metadata": {},
   "outputs": [
    {
     "data": {
      "text/plain": [
       "1.0000000000000002"
      ]
     },
     "execution_count": 15,
     "metadata": {},
     "output_type": "execute_result"
    }
   ],
   "source": [
    "x = 3141592653589793238462643383279502884197169399375105820974944592\n",
    "y = 2718281828459045235360287471352662497757247093699959574966967627\n",
    "karatsuba_product(x, y)"
   ]
  },
  {
   "cell_type": "code",
   "execution_count": null,
   "metadata": {
    "collapsed": true
   },
   "outputs": [],
   "source": []
  }
 ],
 "metadata": {
  "kernelspec": {
   "display_name": "Python [default]",
   "language": "python",
   "name": "python3"
  },
  "language_info": {
   "codemirror_mode": {
    "name": "ipython",
    "version": 3
   },
   "file_extension": ".py",
   "mimetype": "text/x-python",
   "name": "python",
   "nbconvert_exporter": "python",
   "pygments_lexer": "ipython3",
   "version": "3.5.4"
  }
 },
 "nbformat": 4,
 "nbformat_minor": 2
}
