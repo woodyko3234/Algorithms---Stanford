{
 "cells": [
  {
   "cell_type": "markdown",
   "metadata": {},
   "source": [
    "Input : array A containing the numbers 1,2,3,..,n in some arbitrary order\n",
    "\n",
    "Output : number of inversions = number of pairs (i,j) of array indices with i < j and A[i] > A[j]"
   ]
  },
  {
   "cell_type": "code",
   "execution_count": 1,
   "metadata": {
    "collapsed": true
   },
   "outputs": [],
   "source": [
    "def inversion_count(A, n):\n",
    "    #A: target array\n",
    "    #n: length of array A\n",
    "    \n",
    "    if n <= 1: return 0\n",
    "    else:\n",
    "        half = n//2\n",
    "        #divide and call recursive function\n",
    "        left = inversion_count(A[:half], n//2)\n",
    "        right = inversion_count(A[half:], n - (n//2))\n",
    "        #comparing left and right\n",
    "        conq = CountSplitInv(A, n)\n",
    "    return left+right+conq\n",
    "\n",
    "def CountSplitInv(A,n):\n",
    "    output = [0] * n\n",
    "    counting = 0\n",
    "    half = n//2\n",
    "    left = sorted(A[:half])\n",
    "    right = sorted(A[half:])\n",
    "    l_r = len(right)\n",
    "    \n",
    "    i = 0\n",
    "    #print(left, right)\n",
    "    while left != [] and right != []:\n",
    "        if left[0] < right[0]:\n",
    "            output[i] = left.pop(0)\n",
    "            i += 1\n",
    "            #print(output)\n",
    "        elif left[0] > right[0]:\n",
    "            output[i] = right.pop(0)\n",
    "            counting += 1 * len(left)\n",
    "            i += 1\n",
    "        #print(output)\n",
    "    return counting"
   ]
  },
  {
   "cell_type": "code",
   "execution_count": 2,
   "metadata": {},
   "outputs": [
    {
     "data": {
      "text/plain": [
       "3"
      ]
     },
     "execution_count": 2,
     "metadata": {},
     "output_type": "execute_result"
    }
   ],
   "source": [
    "A = [1,3,5,2,4,6]\n",
    "n = len(A)\n",
    "inversion_count(A, 6)"
   ]
  },
  {
   "cell_type": "markdown",
   "metadata": {},
   "source": [
    "### Closest Pair Problem"
   ]
  },
  {
   "cell_type": "code",
   "execution_count": 3,
   "metadata": {},
   "outputs": [
    {
     "name": "stdout",
     "output_type": "stream",
     "text": [
      "\n",
      "\n",
      "Minimum distance between two points is 1.4142135623730951. The closest pair is ((2, 3), (3, 4))\n"
     ]
    }
   ],
   "source": [
    "import math\n",
    "import random\n",
    "import sys\n",
    "\n",
    "def brute_force(X, n):\n",
    "\n",
    "    min_d = distance(X[0], X[1])\n",
    "    min_pair = None\n",
    "\n",
    "    for i,(x,y) in enumerate(X):\n",
    "        for j in range(i+1, n):\n",
    "            if distance(X[i], X[j]) < min_d:\n",
    "                min_d = distance(X[i], X[j])\n",
    "                min_pair = (X[i], X[j])\n",
    "\n",
    "    return min_d, min_pair\n",
    "\n",
    "def distance(a,b):\n",
    "    return math.sqrt( math.pow( (a[0]-b[0]), 2) + math.pow((a[1]-b[1]), 2) )\n",
    "\n",
    "def gen_points(r):\n",
    "    a=[]\n",
    "    for i in range(1,r):\n",
    "        a.append( (random.randint(1,1000), random.randint(1,1000)) )\n",
    "    return a\n",
    "\n",
    "############ Start Program ###############\n",
    "points = [(2,3), (10, 1), (3, 25), (23,15),\n",
    "         (18,3), (8,9), (12,30), (25,30),\n",
    "         (9,2), (13,10), (3,4), (5,6),\n",
    "         (22,32), (5,32), (23,9), (19,25),\n",
    "         (14,1), (11,25), (26,26), (12,9),\n",
    "         (18,9), (27,13), (32,13)]\n",
    "\n",
    "#print (points)\n",
    "print (\"\\n\\nMinimum distance between two points is %s. The closest pair is %s\" % brute_force(points, len(points)))"
   ]
  },
  {
   "cell_type": "code",
   "execution_count": 4,
   "metadata": {},
   "outputs": [
    {
     "name": "stdout",
     "output_type": "stream",
     "text": [
      "\n",
      "\n",
      "Minimum distance between two points is 1.4142135623730951\n"
     ]
    }
   ],
   "source": [
    "# Trigger function for closest_pair function\n",
    "def closest(P, n):\n",
    "                                                    \n",
    "    X=list(P)\n",
    "    Y=list(P)\n",
    "\n",
    "    X.sort() #sort by X coordinate\n",
    "    Y = sort_y(Y) #sort by Y coordinate\n",
    "    return closest_pair(X, Y, n) #apply divide and conquer\n",
    "\n",
    "# Recursive Closest Pair function\n",
    "def closest_pair(X, Y, n):\n",
    "   \n",
    "    if n <= 3:\n",
    "        return brute_force(X, n)\n",
    "             \n",
    "    mid = n//2 \n",
    "    Y_Left  = []\n",
    "    Y_Right = [] \n",
    "\n",
    "    \n",
    "    for p in Y:\n",
    "        if p in X[:mid]:\n",
    "            Y_Left.append(p)\n",
    "        else:\n",
    "            Y_Right.append(p) \n",
    "    \n",
    "    #divide and run recursive func\n",
    "    dis_left  = closest_pair(X[:mid], Y_Left, mid)\n",
    "    dis_right = closest_pair(X[mid:], Y_Right, n-mid)\n",
    "\n",
    "    min_dis = min(dis_left, dis_right)\n",
    "    \n",
    "     \n",
    "    strip  = [] \n",
    "    \n",
    "    #to check if there are closest pairs located on both sides(one left and one right)\n",
    "    #based on the lecture, at most 8 points needed to be compared in the left vs right process\n",
    "    #but the question is: how to decide which points to be included???\n",
    "    for (x,y) in Y:\n",
    "        if abs( x - X[mid][0] ) < min_dis:\n",
    "            strip.append((x,y))\n",
    "    return min(min_dis, strip_closest(strip, min_dis))\n",
    "\n",
    "# Utility function to calculate min distance between points in strip  \n",
    "def strip_closest(strip, d):\n",
    "    min_d = d\n",
    "    for i,(x,y) in enumerate(strip):\n",
    "        for j in range(i+1, len(strip)):\n",
    "            if (strip[j][1] - strip[i][1]) < min_d and distance(strip[i], strip[j]) < min_d:\n",
    "                min_d = distance(strip[i], strip[j])\n",
    "    return min_d                   \n",
    "\n",
    "# Calculates the distance between two points     \n",
    "def distance(a,b):\n",
    "    return math.sqrt( math.pow( (a[0]-b[0]), 2) + math.pow((a[1]-b[1]), 2) ) \n",
    "\n",
    "# Sort points by x value\n",
    "def sort_y(tuples):\n",
    "    return sorted (tuples,key=lambda last : last[-1])\n",
    "\n",
    "# Brute force method to calculate distance for n<=3\n",
    "def brute_force(X, n):\n",
    "    min_d = distance(X[0], X[1])\n",
    "\n",
    "    for i,(x,y) in enumerate(X):\n",
    "        for j in range(i+1, n):\n",
    "            if distance(X[i], X[j]) < min_d:\n",
    "                min_d = distance(X[i], X[j])  \n",
    "    \n",
    "    return min_d\n",
    "\n",
    "# Random array of points generator\n",
    "def gen_points(r):\n",
    "    a=[]\n",
    "\n",
    "    for i in range(1,r):\n",
    "        a.append( (random.randint(1,1000), random.randint(1,1000)) )\n",
    "    return a\n",
    "\n",
    "########## Start Program ########\n",
    "\n",
    "\n",
    "print (\"\\n\\nMinimum distance between two points is %s\" % closest(points, len(points)))"
   ]
  },
  {
   "cell_type": "markdown",
   "metadata": {
    "collapsed": true
   },
   "source": [
    "## Course1 Week2 Assignment\n",
    "\n",
    "Download the following text file:\n",
    "\n",
    "IntegerArray.txt\n",
    "\n",
    "This file contains all of the 100,000 integers between 1 and 100,000 (inclusive) in some order, with no integer repeated.\n",
    "\n",
    "Your task is to compute the number of inversions in the file given, where the ith row of the file indicates the ith entry of an array.\n",
    "\n",
    "Because of the large size of this array, you should implement the fast divide-and-conquer algorithm covered in the video lectures.\n",
    "\n",
    "The numeric answer for the given input file should be typed in the space below.\n",
    "\n",
    "So if your answer is 1198233847, then just type 1198233847 in the space provided without any space / commas / any other punctuation marks. You can make up to 5 attempts, and we'll use the best one for grading.\n",
    "\n",
    "(We do not require you to submit your code, so feel free to use any programming language you want --- just type the final numeric answer in the following space.)\n",
    "\n",
    "[TIP: before submitting, first test the correctness of your program on some small test files or your own devising. Then post your best test cases to the discussion forums to help your fellow students!]"
   ]
  },
  {
   "cell_type": "code",
   "execution_count": 5,
   "metadata": {},
   "outputs": [
    {
     "data": {
      "text/plain": [
       "2407905288"
      ]
     },
     "execution_count": 5,
     "metadata": {},
     "output_type": "execute_result"
    }
   ],
   "source": [
    "#read the file\n",
    "with open('IntegerArray.txt') as f:\n",
    "    a = [int(x) for x in f]\n",
    "    \n",
    "inversion_count(a, 100000)"
   ]
  },
  {
   "cell_type": "code",
   "execution_count": null,
   "metadata": {
    "collapsed": true
   },
   "outputs": [],
   "source": []
  }
 ],
 "metadata": {
  "kernelspec": {
   "display_name": "Python [default]",
   "language": "python",
   "name": "python3"
  },
  "language_info": {
   "codemirror_mode": {
    "name": "ipython",
    "version": 3
   },
   "file_extension": ".py",
   "mimetype": "text/x-python",
   "name": "python",
   "nbconvert_exporter": "python",
   "pygments_lexer": "ipython3",
   "version": "3.5.4"
  }
 },
 "nbformat": 4,
 "nbformat_minor": 2
}
