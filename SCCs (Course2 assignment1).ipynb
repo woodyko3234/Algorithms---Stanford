{
 "cells": [
  {
   "cell_type": "markdown",
   "metadata": {},
   "source": [
    "Download the following text file:\n",
    "\n",
    "SCC.txt\n",
    "\n",
    "The file contains the edges of a directed graph. Vertices are labeled as positive integers from 1 to 875714. Every row indicates an edge, the vertex label in first column is the tail and the vertex label in second column is the head (recall the graph is directed, and the edges are directed from the first column vertex to the second column vertex). So for example, the 11th row looks liks : \"2 47646\". This just means that the vertex with label 2 has an outgoing edge to the vertex with label 47646\n",
    "\n",
    "Your task is to code up the algorithm from the video lectures for computing strongly connected components (SCCs), and to run this algorithm on the given graph.\n",
    "\n",
    "Output Format: You should output the sizes of the 5 largest SCCs in the given graph, in decreasing order of sizes, separated by commas (avoid any spaces). So if your algorithm computes the sizes of the five largest SCCs to be 500, 400, 300, 200 and 100, then your answer should be \"500,400,300,200,100\" (without the quotes). If your algorithm finds less than 5 SCCs, then write 0 for the remaining terms. Thus, if your algorithm computes only 3 SCCs whose sizes are 400, 300, and 100, then your answer should be \"400,300,100,0,0\" (without the quotes). (Note also that your answer should not have any spaces in it.)\n",
    "\n",
    "WARNING: This is the most challenging programming assignment of the course. Because of the size of the graph you may have to manage memory carefully. The best way to do this depends on your programming language and environment, and we strongly suggest that you exchange tips for doing this on the discussion forums."
   ]
  },
  {
   "cell_type": "code",
   "execution_count": 6,
   "metadata": {},
   "outputs": [
    {
     "data": {
      "text/plain": [
       "[[], [], [], [], [], [], [], [], [], []]"
      ]
     },
     "execution_count": 6,
     "metadata": {},
     "output_type": "execute_result"
    }
   ],
   "source": [
    "#a = []\n",
    "#a + [[]]*(10-len(a))"
   ]
  },
  {
   "cell_type": "code",
   "execution_count": 4,
   "metadata": {},
   "outputs": [],
   "source": [
    "import sys\n",
    "from collections import defaultdict"
   ]
  },
  {
   "cell_type": "code",
   "execution_count": 5,
   "metadata": {},
   "outputs": [],
   "source": [
    "import networkx as nx"
   ]
  },
  {
   "cell_type": "code",
   "execution_count": 8,
   "metadata": {},
   "outputs": [],
   "source": [
    "def create_graph(graphfile):\n",
    "    G = nx.DiGraph()\n",
    "    with open(graphfile) as f:\n",
    "        line = f.readline()\n",
    "        \n",
    "        while line != '':\n",
    "            #line: num1(space)num2\n",
    "            num1, num2 = line.split()\n",
    "            #set from node\n",
    "            v_from = int(num1)\n",
    "            #set to node\n",
    "            v_to = int(num2)\n",
    "            #create connect between nodes\n",
    "            G.add_edge(v_from, v_to)\n",
    "            \n",
    "            #read next line\n",
    "            line = f.readline()\n",
    "    return G"
   ]
  },
  {
   "cell_type": "code",
   "execution_count": 9,
   "metadata": {},
   "outputs": [],
   "source": [
    "graph = create_graph('SCC.txt')"
   ]
  },
  {
   "cell_type": "code",
   "execution_count": 10,
   "metadata": {},
   "outputs": [
    {
     "data": {
      "text/plain": [
       "[434821, 968, 459, 313, 211]"
      ]
     },
     "execution_count": 10,
     "metadata": {},
     "output_type": "execute_result"
    }
   ],
   "source": [
    "[len(c) for c in sorted(nx.strongly_connected_components(graph),\n",
    "                            key=len, reverse=True)][:5]"
   ]
  },
  {
   "cell_type": "code",
   "execution_count": null,
   "metadata": {
    "collapsed": true
   },
   "outputs": [],
   "source": [
    "#networkx documentation for SCC:\n",
    "#https://github.com/networkx/networkx/blob/7e63811866e86e87e244790b5310098737c22ec4/networkx/algorithms/components/strongly_connected.py\n",
    "'''\n",
    "def strongly_connected_components(G):\n",
    "    \"\"\"Generate nodes in strongly connected components of graph.\n",
    "    Parameters\n",
    "    ----------\n",
    "    G : NetworkX Graph\n",
    "        A directed graph.\n",
    "    Returns\n",
    "    -------\n",
    "    comp : generator of sets\n",
    "        A generator of sets of nodes, one for each strongly connected\n",
    "        component of G.\n",
    "    Raises\n",
    "    ------\n",
    "    NetworkXNotImplemented :\n",
    "        If G is undirected.\n",
    "    Examples\n",
    "    --------\n",
    "    Generate a sorted list of strongly connected components, largest first.\n",
    "    >>> G = nx.cycle_graph(4, create_using=nx.DiGraph())\n",
    "    >>> nx.add_cycle(G, [10, 11, 12])\n",
    "    >>> [len(c) for c in sorted(nx.strongly_connected_components(G),\n",
    "    ...                         key=len, reverse=True)]\n",
    "    [4, 3]\n",
    "    If you only want the largest component, it's more efficient to\n",
    "    use max instead of sort.\n",
    "    >>> largest = max(nx.strongly_connected_components(G), key=len)\n",
    "    See Also\n",
    "    --------\n",
    "    connected_components\n",
    "    weakly_connected_components\n",
    "    kosaraju_strongly_connected_components\n",
    "    Notes\n",
    "    -----\n",
    "    Uses Tarjan's algorithm[1]_ with Nuutila's modifications[2]_.\n",
    "    Nonrecursive version of algorithm.\n",
    "    References\n",
    "    ----------\n",
    "    .. [1] Depth-first search and linear graph algorithms, R. Tarjan\n",
    "       SIAM Journal of Computing 1(2):146-160, (1972).\n",
    "    .. [2] On finding the strongly connected components in a directed graph.\n",
    "       E. Nuutila and E. Soisalon-Soinen\n",
    "       Information Processing Letters 49(1): 9-14, (1994)..\n",
    "    \"\"\"\n",
    "    preorder = {}\n",
    "    lowlink = {}\n",
    "    scc_found = {}\n",
    "    scc_queue = []\n",
    "    i = 0     # Preorder counter\n",
    "    for source in G:\n",
    "        if source not in scc_found:\n",
    "            queue = [source]\n",
    "            while queue:\n",
    "                v = queue[-1]\n",
    "                if v not in preorder:\n",
    "                    i = i + 1\n",
    "                    preorder[v] = i\n",
    "                done = 1\n",
    "                v_nbrs = G[v]\n",
    "                for w in v_nbrs:\n",
    "                    if w not in preorder:\n",
    "                        queue.append(w)\n",
    "                        done = 0\n",
    "                        break\n",
    "                if done == 1:\n",
    "                    lowlink[v] = preorder[v]\n",
    "                    for w in v_nbrs:\n",
    "                        if w not in scc_found:\n",
    "                            if preorder[w] > preorder[v]:\n",
    "                                lowlink[v] = min([lowlink[v], lowlink[w]])\n",
    "                            else:\n",
    "                                lowlink[v] = min([lowlink[v], preorder[w]])\n",
    "                    queue.pop()\n",
    "                    if lowlink[v] == preorder[v]:\n",
    "                        scc_found[v] = True\n",
    "                        scc = {v}\n",
    "                        while scc_queue and preorder[scc_queue[-1]] > preorder[v]:\n",
    "                            k = scc_queue.pop()\n",
    "                            scc_found[k] = True\n",
    "                            scc.add(k)\n",
    "                        yield scc\n",
    "                    else:\n",
    "                        scc_queue.append(v)\n",
    "'''"
   ]
  },
  {
   "cell_type": "code",
   "execution_count": 3,
   "metadata": {
    "collapsed": true
   },
   "outputs": [],
   "source": [
    "'''\n",
    "#abandon the function bcz it might output useless from/to nodes (between 0 and the maximum but no adjacent nodes)\n",
    "def read_data(filename):\n",
    "    #Create empty list to fill data in\n",
    "    adjlist = []\n",
    "    adjlist_reversed = []\n",
    "\n",
    "    #load data\n",
    "    with open(filename) as file:\n",
    "        line = file.readline()\n",
    "        while line != '':\n",
    "            #line: num1(space)num2\n",
    "            num1, num2 = line.split()\n",
    "            #set from node\n",
    "            v_from = int(num1)\n",
    "            #set to node\n",
    "            v_to = int(num2)\n",
    "            #use the max value to do list length check\n",
    "            max_v = max(v_from, v_to)\n",
    "            \n",
    "            if len(adjlist) < max_v:\n",
    "                #if len(adjlist) is less than max_v, len(adjlist_reversed) is less than max_v as well\n",
    "                adjlist = adjlist + [[]]*(max_v - len(adjlist))\n",
    "                adjlist_reversed = adjlist_reversed + [[]]*(max_v - len(adjlist_reversed))\n",
    "            #append the node num into the lists\n",
    "            adjlist[v_from-1].append(v_to - 1)\n",
    "            adjlist_reversed[v_to - 1].append(v_from - 1)\n",
    "            \n",
    "            #read next line\n",
    "            line = file.readline()\n",
    "    return adjlist, adjlist_reversed\n",
    "'''"
   ]
  },
  {
   "cell_type": "code",
   "execution_count": 12,
   "metadata": {
    "collapsed": true
   },
   "outputs": [],
   "source": [
    "#import sys\n",
    "#import threading\n",
    "#python doesn't support heavy recursive function well\n",
    "'''\n",
    "t = 0\n",
    "s = None\n",
    "explored = None\n",
    "leader = None\n",
    "scc_size = 0\n",
    "sorted_by_finish_time = None\n",
    "\n",
    "def DFS_Loop_1(graph_rev, n):\n",
    "    \n",
    "    global t, explored, sorted_by_finish_time\n",
    "    \n",
    "    t = 0\n",
    "    explored = [False]*n\n",
    "    sorted_by_finish_time = [None]*n\n",
    "    \n",
    "    for i in reversed(range(n)):\n",
    "        if not explored[i]:\n",
    "            DFS_1(graph_rev, i)\n",
    "                        \n",
    "            \n",
    "def DFS_1(graph_rev, i):\n",
    "    \n",
    "    global t, explored\n",
    "    \n",
    "    explored[i] = True\n",
    "    \n",
    "    for v in graph_rev[i]:\n",
    "        if not explored[v]:\n",
    "            DFS_1(graph_rev, v)\n",
    "    \n",
    "    sorted_by_finish_time[t] = i\n",
    "    t += 1\n",
    "    \n",
    "    \n",
    "def DFS_Loop_2(graph):\n",
    "    \n",
    "    global scc_size, explored, sorted_by_finish_time\n",
    "    \n",
    "    explored = [False]*len(graph)\n",
    "    res = []\n",
    "    \n",
    "    for i in reversed(range(len(graph))):\n",
    "        if not explored[sorted_by_finish_time[i]]:\n",
    "            scc_size = 0\n",
    "            # Here we collect all the members\n",
    "            # of the next SCC using DFS.\n",
    "            # scc_size is incremented inside DFS.\n",
    "            DFS_2(graph, sorted_by_finish_time[i])\n",
    "            res.append(scc_size)\n",
    "            \n",
    "    return res\n",
    "    \n",
    "    \n",
    "def DFS_2(graph, i):\n",
    "    \n",
    "    global explored, scc_size\n",
    "    \n",
    "    explored[i] = True\n",
    "    \n",
    "    for v in graph[i]:\n",
    "        if not explored[v]:\n",
    "            DFS_2(graph, v)\n",
    "    \n",
    "    scc_size += 1\n",
    "    \n",
    "\n",
    "def kosarajuSCCsizes(graph, graph_rev):\n",
    "    \n",
    "    DFS_Loop_1(graph_rev, len(graph))\n",
    "    res = DFS_Loop_2(graph)\n",
    "    \n",
    "    return res\n",
    "\n",
    "\n",
    "def main():\n",
    "    \n",
    "    graph, graph_rev = read_data('SCC.txt')\n",
    "    \n",
    "    res = kosarajuSCCsizes(graph, graph_rev)\n",
    "    \n",
    "    print(','.join(map(lambda x: str(x), max(res))))\n",
    "'''\n",
    "#if __name__ == '__main__':\n",
    "#    threading.stack_size(67108864) # 64MB stack\n",
    "#    sys.setrecursionlimit(2 ** 20)  # approx 1 million recursions\n",
    "#    thread = threading.Thread(target = main) # instantiate thread object\n",
    "#    thread.start() # run program at target\n",
    "\n",
    "#thread module: http://puremonkey2010.blogspot.tw/2012/07/python-python-threading.html"
   ]
  }
 ],
 "metadata": {
  "kernelspec": {
   "display_name": "Python [default]",
   "language": "python",
   "name": "python3"
  },
  "language_info": {
   "codemirror_mode": {
    "name": "ipython",
    "version": 3
   },
   "file_extension": ".py",
   "mimetype": "text/x-python",
   "name": "python",
   "nbconvert_exporter": "python",
   "pygments_lexer": "ipython3",
   "version": "3.5.4"
  }
 },
 "nbformat": 4,
 "nbformat_minor": 2
}
